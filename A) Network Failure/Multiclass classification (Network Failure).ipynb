{
 "cells": [
  {
   "cell_type": "markdown",
   "metadata": {},
   "source": [
    "## **Import important libraries and read the dataset**"
   ]
  },
  {
   "cell_type": "code",
   "execution_count": null,
   "metadata": {
    "execution": {
     "iopub.execute_input": "2022-11-04T19:19:19.704545Z",
     "iopub.status.busy": "2022-11-04T19:19:19.704154Z",
     "iopub.status.idle": "2022-11-04T19:19:21.163592Z",
     "shell.execute_reply": "2022-11-04T19:19:21.162919Z",
     "shell.execute_reply.started": "2022-11-04T19:19:19.704519Z"
    },
    "id": "Txb9O2AQ2k-H",
    "outputId": "7c621bad-b25b-4751-c845-611b1d42f3d9"
   },
   "outputs": [
    {
     "name": "stdout",
     "output_type": "stream",
     "text": [
      "/bin/bash: line 1: unzip: command not found\n",
      "/bin/bash: line 1: unzip: command not found\n"
     ]
    }
   ],
   "source": [
    "!unzip \"workspace/dataset_a.csv\" -d \"/content\"\n",
    "!unzip \"workspace/dataset_bc.csv\" -d \"/content\""
   ]
  },
  {
   "cell_type": "code",
   "execution_count": null,
   "metadata": {
    "execution": {
     "iopub.execute_input": "2022-11-06T07:12:52.601583Z",
     "iopub.status.busy": "2022-11-06T07:12:52.601179Z",
     "iopub.status.idle": "2022-11-06T07:12:53.739068Z",
     "shell.execute_reply": "2022-11-06T07:12:53.738531Z",
     "shell.execute_reply.started": "2022-11-06T07:12:52.601516Z"
    },
    "id": "KhOXBN5l5Oe9",
    "outputId": "532cc7ce-88e4-4c38-9d00-df8555bf6d36",
    "tags": []
   },
   "outputs": [
    {
     "name": "stderr",
     "output_type": "stream",
     "text": [
      "/srv/conda/envs/saturn/lib/python3.9/site-packages/xgboost/compat.py:36: FutureWarning: pandas.Int64Index is deprecated and will be removed from pandas in a future version. Use pandas.Index with the appropriate dtype instead.\n",
      "  from pandas import MultiIndex, Int64Index\n"
     ]
    }
   ],
   "source": [
    "import xgboost as xgb\n",
    "from matplotlib import pyplot as plt\n",
    "from sklearn import datasets\n",
    "from sklearn.model_selection import train_test_split\n",
    "from sklearn.metrics import accuracy_score\n",
    "from sklearn.metrics import classification_report\n",
    "import pandas as pd\n",
    "from xgboost import XGBClassifier\n",
    "from sklearn.metrics import confusion_matrix\n",
    "import numpy as np\n",
    "from sklearn.naive_bayes import GaussianNB\n",
    "from sklearn.linear_model import LogisticRegression\n",
    "from sklearn.ensemble import RandomForestClassifier\n"
   ]
  },
  {
   "cell_type": "code",
   "execution_count": null,
   "metadata": {
    "execution": {
     "iopub.execute_input": "2022-11-06T07:12:53.740813Z",
     "iopub.status.busy": "2022-11-06T07:12:53.740341Z",
     "iopub.status.idle": "2022-11-06T07:12:53.749776Z",
     "shell.execute_reply": "2022-11-06T07:12:53.749299Z",
     "shell.execute_reply.started": "2022-11-06T07:12:53.740779Z"
    },
    "id": "Dd0f4OXGLfTW",
    "tags": []
   },
   "outputs": [],
   "source": [
    "from sklearn.metrics import classification_report, ConfusionMatrixDisplay, accuracy_score, confusion_matrix\n",
    "import matplotlib.pyplot as plt\n",
    "%matplotlib inline\n",
    "from sklearn import metrics\n",
    "from sklearn.manifold import TSNE\n",
    "plt.rcParams[\"figure.figsize\"] = (10,5)\n",
    "import warnings\n",
    "warnings.filterwarnings(\"ignore\")"
   ]
  },
  {
   "cell_type": "code",
   "execution_count": null,
   "metadata": {
    "colab": {
     "base_uri": "https://localhost:8080/",
     "height": 36
    },
    "execution": {
     "iopub.execute_input": "2022-11-06T07:12:56.119718Z",
     "iopub.status.busy": "2022-11-06T07:12:56.119312Z",
     "iopub.status.idle": "2022-11-06T07:12:56.124733Z",
     "shell.execute_reply": "2022-11-06T07:12:56.124247Z",
     "shell.execute_reply.started": "2022-11-06T07:12:56.119691Z"
    },
    "id": "6APwUirAhRz4",
    "outputId": "5648732c-7599-4e70-a719-24fb28b78eef",
    "tags": []
   },
   "outputs": [
    {
     "data": {
      "text/plain": [
       "'1.5.1'"
      ]
     },
     "execution_count": 3,
     "metadata": {},
     "output_type": "execute_result"
    }
   ],
   "source": [
    "import xgboost\n",
    "xgboost.__version__"
   ]
  },
  {
   "cell_type": "code",
   "execution_count": null,
   "metadata": {
    "colab": {
     "base_uri": "https://localhost:8080/",
     "height": 421
    },
    "execution": {
     "iopub.execute_input": "2022-11-06T07:12:56.674525Z",
     "iopub.status.busy": "2022-11-06T07:12:56.674156Z",
     "iopub.status.idle": "2022-11-06T07:12:59.583859Z",
     "shell.execute_reply": "2022-11-06T07:12:59.583261Z",
     "shell.execute_reply.started": "2022-11-06T07:12:56.674502Z"
    },
    "id": "oDmGBNBn5VUK",
    "outputId": "b47c3884-dc88-4b89-8595-8ecabd4e4bfe",
    "tags": []
   },
   "outputs": [
    {
     "data": {
      "text/html": [
       "<div>\n",
       "<style scoped>\n",
       "    .dataframe tbody tr th:only-of-type {\n",
       "        vertical-align: middle;\n",
       "    }\n",
       "\n",
       "    .dataframe tbody tr th {\n",
       "        vertical-align: top;\n",
       "    }\n",
       "\n",
       "    .dataframe thead th {\n",
       "        text-align: right;\n",
       "    }\n",
       "</style>\n",
       "<table border=\"1\" class=\"dataframe\">\n",
       "  <thead>\n",
       "    <tr style=\"text-align: right;\">\n",
       "      <th></th>\n",
       "      <th>labelnew</th>\n",
       "      <th>abc</th>\n",
       "      <th>traintest</th>\n",
       "      <th>datetime</th>\n",
       "      <th>node</th>\n",
       "      <th>interfaces_interfaces-state_interface_statistics_in-octets</th>\n",
       "      <th>interfaces_interfaces-state_interface_statistics_in-unicast-pkts</th>\n",
       "      <th>interfaces_interfaces-state_interface_statistics_in-broadcast-pkts</th>\n",
       "      <th>interfaces_interfaces-state_interface_statistics_in-multicast-pkts</th>\n",
       "      <th>interfaces_interfaces-state_interface_statistics_in-discards</th>\n",
       "      <th>...</th>\n",
       "      <th>software-oper_cisco-platform-software_control-processes_control-process_per-core-stats_per-core-stat_sirq</th>\n",
       "      <th>software-oper_cisco-platform-software_control-processes_control-process_per-core-stats_per-core-stat_io-wait</th>\n",
       "      <th>software-oper_cisco-platform-software_control-processes_control-process_per-core-stats_per-core-stat_name.1</th>\n",
       "      <th>software-oper_cisco-platform-software_control-processes_control-process_per-core-stats_per-core-stat_user.1</th>\n",
       "      <th>software-oper_cisco-platform-software_control-processes_control-process_per-core-stats_per-core-stat_system.1</th>\n",
       "      <th>software-oper_cisco-platform-software_control-processes_control-process_per-core-stats_per-core-stat_nice.1</th>\n",
       "      <th>software-oper_cisco-platform-software_control-processes_control-process_per-core-stats_per-core-stat_idle.1</th>\n",
       "      <th>software-oper_cisco-platform-software_control-processes_control-process_per-core-stats_per-core-stat_irq.1</th>\n",
       "      <th>software-oper_cisco-platform-software_control-processes_control-process_per-core-stats_per-core-stat_sirq.1</th>\n",
       "      <th>software-oper_cisco-platform-software_control-processes_control-process_per-core-stats_per-core-stat_io-wait.1</th>\n",
       "    </tr>\n",
       "  </thead>\n",
       "  <tbody>\n",
       "    <tr>\n",
       "      <th>0</th>\n",
       "      <td>0</td>\n",
       "      <td>a</td>\n",
       "      <td>0</td>\n",
       "      <td>20210128174440</td>\n",
       "      <td>amfa1</td>\n",
       "      <td>0.0</td>\n",
       "      <td>0.0</td>\n",
       "      <td>0.0</td>\n",
       "      <td>0.0</td>\n",
       "      <td>0.0</td>\n",
       "      <td>...</td>\n",
       "      <td>0.0</td>\n",
       "      <td>0.00</td>\n",
       "      <td>1.0</td>\n",
       "      <td>0.20</td>\n",
       "      <td>0.20</td>\n",
       "      <td>0.0</td>\n",
       "      <td>99.19</td>\n",
       "      <td>0.0</td>\n",
       "      <td>0.0</td>\n",
       "      <td>0.40</td>\n",
       "    </tr>\n",
       "    <tr>\n",
       "      <th>1</th>\n",
       "      <td>0</td>\n",
       "      <td>a</td>\n",
       "      <td>0</td>\n",
       "      <td>20210128174450</td>\n",
       "      <td>amfa1</td>\n",
       "      <td>0.0</td>\n",
       "      <td>0.0</td>\n",
       "      <td>0.0</td>\n",
       "      <td>0.0</td>\n",
       "      <td>0.0</td>\n",
       "      <td>...</td>\n",
       "      <td>0.0</td>\n",
       "      <td>0.09</td>\n",
       "      <td>1.0</td>\n",
       "      <td>0.73</td>\n",
       "      <td>0.36</td>\n",
       "      <td>0.0</td>\n",
       "      <td>98.63</td>\n",
       "      <td>0.0</td>\n",
       "      <td>0.0</td>\n",
       "      <td>0.27</td>\n",
       "    </tr>\n",
       "    <tr>\n",
       "      <th>2</th>\n",
       "      <td>0</td>\n",
       "      <td>a</td>\n",
       "      <td>0</td>\n",
       "      <td>20210128174500</td>\n",
       "      <td>amfa1</td>\n",
       "      <td>0.0</td>\n",
       "      <td>0.0</td>\n",
       "      <td>0.0</td>\n",
       "      <td>0.0</td>\n",
       "      <td>0.0</td>\n",
       "      <td>...</td>\n",
       "      <td>0.0</td>\n",
       "      <td>0.22</td>\n",
       "      <td>1.0</td>\n",
       "      <td>1.11</td>\n",
       "      <td>0.44</td>\n",
       "      <td>0.0</td>\n",
       "      <td>98.22</td>\n",
       "      <td>0.0</td>\n",
       "      <td>0.0</td>\n",
       "      <td>0.22</td>\n",
       "    </tr>\n",
       "    <tr>\n",
       "      <th>3</th>\n",
       "      <td>0</td>\n",
       "      <td>a</td>\n",
       "      <td>0</td>\n",
       "      <td>20210128174510</td>\n",
       "      <td>amfa1</td>\n",
       "      <td>0.0</td>\n",
       "      <td>0.0</td>\n",
       "      <td>0.0</td>\n",
       "      <td>0.0</td>\n",
       "      <td>0.0</td>\n",
       "      <td>...</td>\n",
       "      <td>0.0</td>\n",
       "      <td>0.10</td>\n",
       "      <td>1.0</td>\n",
       "      <td>0.60</td>\n",
       "      <td>0.30</td>\n",
       "      <td>0.0</td>\n",
       "      <td>99.00</td>\n",
       "      <td>0.0</td>\n",
       "      <td>0.1</td>\n",
       "      <td>0.00</td>\n",
       "    </tr>\n",
       "    <tr>\n",
       "      <th>4</th>\n",
       "      <td>0</td>\n",
       "      <td>a</td>\n",
       "      <td>0</td>\n",
       "      <td>20210128174520</td>\n",
       "      <td>amfa1</td>\n",
       "      <td>0.0</td>\n",
       "      <td>0.0</td>\n",
       "      <td>0.0</td>\n",
       "      <td>0.0</td>\n",
       "      <td>0.0</td>\n",
       "      <td>...</td>\n",
       "      <td>0.0</td>\n",
       "      <td>0.37</td>\n",
       "      <td>1.0</td>\n",
       "      <td>1.10</td>\n",
       "      <td>0.37</td>\n",
       "      <td>0.0</td>\n",
       "      <td>98.53</td>\n",
       "      <td>0.0</td>\n",
       "      <td>0.0</td>\n",
       "      <td>0.00</td>\n",
       "    </tr>\n",
       "  </tbody>\n",
       "</table>\n",
       "<p>5 rows × 108 columns</p>\n",
       "</div>"
      ],
      "text/plain": [
       "   labelnew abc  traintest        datetime   node  \\\n",
       "0         0   a          0  20210128174440  amfa1   \n",
       "1         0   a          0  20210128174450  amfa1   \n",
       "2         0   a          0  20210128174500  amfa1   \n",
       "3         0   a          0  20210128174510  amfa1   \n",
       "4         0   a          0  20210128174520  amfa1   \n",
       "\n",
       "   interfaces_interfaces-state_interface_statistics_in-octets  \\\n",
       "0                                                0.0            \n",
       "1                                                0.0            \n",
       "2                                                0.0            \n",
       "3                                                0.0            \n",
       "4                                                0.0            \n",
       "\n",
       "   interfaces_interfaces-state_interface_statistics_in-unicast-pkts  \\\n",
       "0                                                0.0                  \n",
       "1                                                0.0                  \n",
       "2                                                0.0                  \n",
       "3                                                0.0                  \n",
       "4                                                0.0                  \n",
       "\n",
       "   interfaces_interfaces-state_interface_statistics_in-broadcast-pkts  \\\n",
       "0                                                0.0                    \n",
       "1                                                0.0                    \n",
       "2                                                0.0                    \n",
       "3                                                0.0                    \n",
       "4                                                0.0                    \n",
       "\n",
       "   interfaces_interfaces-state_interface_statistics_in-multicast-pkts  \\\n",
       "0                                                0.0                    \n",
       "1                                                0.0                    \n",
       "2                                                0.0                    \n",
       "3                                                0.0                    \n",
       "4                                                0.0                    \n",
       "\n",
       "   interfaces_interfaces-state_interface_statistics_in-discards  ...  \\\n",
       "0                                                0.0             ...   \n",
       "1                                                0.0             ...   \n",
       "2                                                0.0             ...   \n",
       "3                                                0.0             ...   \n",
       "4                                                0.0             ...   \n",
       "\n",
       "   software-oper_cisco-platform-software_control-processes_control-process_per-core-stats_per-core-stat_sirq  \\\n",
       "0                                                0.0                                                           \n",
       "1                                                0.0                                                           \n",
       "2                                                0.0                                                           \n",
       "3                                                0.0                                                           \n",
       "4                                                0.0                                                           \n",
       "\n",
       "   software-oper_cisco-platform-software_control-processes_control-process_per-core-stats_per-core-stat_io-wait  \\\n",
       "0                                               0.00                                                              \n",
       "1                                               0.09                                                              \n",
       "2                                               0.22                                                              \n",
       "3                                               0.10                                                              \n",
       "4                                               0.37                                                              \n",
       "\n",
       "   software-oper_cisco-platform-software_control-processes_control-process_per-core-stats_per-core-stat_name.1  \\\n",
       "0                                                1.0                                                             \n",
       "1                                                1.0                                                             \n",
       "2                                                1.0                                                             \n",
       "3                                                1.0                                                             \n",
       "4                                                1.0                                                             \n",
       "\n",
       "   software-oper_cisco-platform-software_control-processes_control-process_per-core-stats_per-core-stat_user.1  \\\n",
       "0                                               0.20                                                             \n",
       "1                                               0.73                                                             \n",
       "2                                               1.11                                                             \n",
       "3                                               0.60                                                             \n",
       "4                                               1.10                                                             \n",
       "\n",
       "   software-oper_cisco-platform-software_control-processes_control-process_per-core-stats_per-core-stat_system.1  \\\n",
       "0                                               0.20                                                               \n",
       "1                                               0.36                                                               \n",
       "2                                               0.44                                                               \n",
       "3                                               0.30                                                               \n",
       "4                                               0.37                                                               \n",
       "\n",
       "   software-oper_cisco-platform-software_control-processes_control-process_per-core-stats_per-core-stat_nice.1  \\\n",
       "0                                                0.0                                                             \n",
       "1                                                0.0                                                             \n",
       "2                                                0.0                                                             \n",
       "3                                                0.0                                                             \n",
       "4                                                0.0                                                             \n",
       "\n",
       "   software-oper_cisco-platform-software_control-processes_control-process_per-core-stats_per-core-stat_idle.1  \\\n",
       "0                                              99.19                                                             \n",
       "1                                              98.63                                                             \n",
       "2                                              98.22                                                             \n",
       "3                                              99.00                                                             \n",
       "4                                              98.53                                                             \n",
       "\n",
       "   software-oper_cisco-platform-software_control-processes_control-process_per-core-stats_per-core-stat_irq.1  \\\n",
       "0                                                0.0                                                            \n",
       "1                                                0.0                                                            \n",
       "2                                                0.0                                                            \n",
       "3                                                0.0                                                            \n",
       "4                                                0.0                                                            \n",
       "\n",
       "   software-oper_cisco-platform-software_control-processes_control-process_per-core-stats_per-core-stat_sirq.1  \\\n",
       "0                                                0.0                                                             \n",
       "1                                                0.0                                                             \n",
       "2                                                0.0                                                             \n",
       "3                                                0.1                                                             \n",
       "4                                                0.0                                                             \n",
       "\n",
       "   software-oper_cisco-platform-software_control-processes_control-process_per-core-stats_per-core-stat_io-wait.1  \n",
       "0                                               0.40                                                               \n",
       "1                                               0.27                                                               \n",
       "2                                               0.22                                                               \n",
       "3                                               0.00                                                               \n",
       "4                                               0.00                                                               \n",
       "\n",
       "[5 rows x 108 columns]"
      ]
     },
     "execution_count": 4,
     "metadata": {},
     "output_type": "execute_result"
    }
   ],
   "source": [
    "df_1 = pd.read_csv('dataset_a.csv')\n",
    "df_1.head()"
   ]
  },
  {
   "cell_type": "code",
   "execution_count": null,
   "metadata": {
    "execution": {
     "iopub.execute_input": "2022-11-06T07:12:59.585164Z",
     "iopub.status.busy": "2022-11-06T07:12:59.584832Z",
     "iopub.status.idle": "2022-11-06T07:13:04.445735Z",
     "shell.execute_reply": "2022-11-06T07:13:04.445087Z",
     "shell.execute_reply.started": "2022-11-06T07:12:59.585141Z"
    },
    "id": "gZAdbQht5aHI",
    "tags": []
   },
   "outputs": [],
   "source": [
    "import numpy as np\n",
    "X_test = np.loadtxt('01_a_test_data.txt')\n",
    "y_test = np.loadtxt('01_a_test_label.txt', dtype='int64')\n",
    "X_train_a = np.loadtxt('01_a_train_data.txt')\n",
    "y_train_a = np.loadtxt('01_a_train_label.txt', dtype='int64')\n",
    "    \n",
    "X_test_a = np.loadtxt('01_a_test_data.txt')\n",
    "y_test_a = np.loadtxt('01_a_test_label.txt', dtype='int64')\n",
    "    \n",
    "X_train_c = np.loadtxt('01_c_train_data.txt')\n",
    "y_train_c = np.loadtxt('01_c_train_label.txt', dtype='int64')\n",
    "    \n",
    "X_test_c = np.loadtxt('01_c_test_data.txt')\n",
    "y_test_c = np.loadtxt('01_c_test_label.txt', dtype='int64')\n",
    "    \n",
    "X_train = np.concatenate([X_train_a, X_train_c])\n",
    "y_train = np.concatenate([y_train_a, y_train_c])"
   ]
  },
  {
   "cell_type": "code",
   "execution_count": null,
   "metadata": {
    "colab": {
     "base_uri": "https://localhost:8080/"
    },
    "execution": {
     "iopub.execute_input": "2022-11-06T07:13:04.447182Z",
     "iopub.status.busy": "2022-11-06T07:13:04.446721Z",
     "iopub.status.idle": "2022-11-06T07:13:04.452293Z",
     "shell.execute_reply": "2022-11-06T07:13:04.451689Z",
     "shell.execute_reply.started": "2022-11-06T07:13:04.447110Z"
    },
    "id": "1du0omWd6KjL",
    "outputId": "99f93f5f-5cc4-4cb4-d49f-8b45d08c6cb1",
    "tags": []
   },
   "outputs": [
    {
     "data": {
      "text/plain": [
       "(187020, 33)"
      ]
     },
     "execution_count": 6,
     "metadata": {},
     "output_type": "execute_result"
    }
   ],
   "source": [
    "X_train.shape"
   ]
  },
  {
   "cell_type": "code",
   "execution_count": null,
   "metadata": {
    "execution": {
     "iopub.execute_input": "2022-11-06T07:13:04.453954Z",
     "iopub.status.busy": "2022-11-06T07:13:04.453586Z",
     "iopub.status.idle": "2022-11-06T07:13:04.457612Z",
     "shell.execute_reply": "2022-11-06T07:13:04.457017Z",
     "shell.execute_reply.started": "2022-11-06T07:13:04.453924Z"
    },
    "id": "vXutjrZ57j0U",
    "tags": []
   },
   "outputs": [],
   "source": [
    "columns_name = ['memory_status_1','memory_status_2','memory_status_3',\n",
    "                'in_octets_1','in_octets_2','in_octets_3',\n",
    "                'out_octets_1','out_octets_2','out_octets_3',\n",
    "               'oper_status_1' ,'oper_status_2','oper_status_3',\n",
    "                'used_precent_1','used_precent_2','used_precent_3',\n",
    "                'user_1','user_2','user_3','user_4','user_5','user_6',\n",
    "                'system_1','system_2','system_3','system_4','system_5','system_6',\n",
    "                'idle_1','idle_2','idle_3','idle_4','idle_5','idle_6']"
   ]
  },
  {
   "cell_type": "code",
   "execution_count": null,
   "metadata": {
    "colab": {
     "base_uri": "https://localhost:8080/",
     "height": 488
    },
    "execution": {
     "iopub.execute_input": "2022-11-06T07:13:04.458916Z",
     "iopub.status.busy": "2022-11-06T07:13:04.458517Z",
     "iopub.status.idle": "2022-11-06T07:13:04.540066Z",
     "shell.execute_reply": "2022-11-06T07:13:04.539564Z",
     "shell.execute_reply.started": "2022-11-06T07:13:04.458887Z"
    },
    "id": "PBAs45sw-3Q9",
    "outputId": "297e44fc-c2d0-4d94-9046-4499e59ab7d8",
    "tags": []
   },
   "outputs": [
    {
     "data": {
      "text/html": [
       "<div>\n",
       "<style scoped>\n",
       "    .dataframe tbody tr th:only-of-type {\n",
       "        vertical-align: middle;\n",
       "    }\n",
       "\n",
       "    .dataframe tbody tr th {\n",
       "        vertical-align: top;\n",
       "    }\n",
       "\n",
       "    .dataframe thead th {\n",
       "        text-align: right;\n",
       "    }\n",
       "</style>\n",
       "<table border=\"1\" class=\"dataframe\">\n",
       "  <thead>\n",
       "    <tr style=\"text-align: right;\">\n",
       "      <th></th>\n",
       "      <th>memory_status_1</th>\n",
       "      <th>memory_status_2</th>\n",
       "      <th>memory_status_3</th>\n",
       "      <th>in_octets_1</th>\n",
       "      <th>in_octets_2</th>\n",
       "      <th>in_octets_3</th>\n",
       "      <th>out_octets_1</th>\n",
       "      <th>out_octets_2</th>\n",
       "      <th>out_octets_3</th>\n",
       "      <th>oper_status_1</th>\n",
       "      <th>...</th>\n",
       "      <th>system_3</th>\n",
       "      <th>system_4</th>\n",
       "      <th>system_5</th>\n",
       "      <th>system_6</th>\n",
       "      <th>idle_1</th>\n",
       "      <th>idle_2</th>\n",
       "      <th>idle_3</th>\n",
       "      <th>idle_4</th>\n",
       "      <th>idle_5</th>\n",
       "      <th>idle_6</th>\n",
       "    </tr>\n",
       "  </thead>\n",
       "  <tbody>\n",
       "    <tr>\n",
       "      <th>0</th>\n",
       "      <td>0.0</td>\n",
       "      <td>0.0</td>\n",
       "      <td>0.0</td>\n",
       "      <td>2.690996e+09</td>\n",
       "      <td>3.319806e+09</td>\n",
       "      <td>5.962709e+09</td>\n",
       "      <td>3.390005e+09</td>\n",
       "      <td>3.272843e+09</td>\n",
       "      <td>5.785647e+09</td>\n",
       "      <td>0.55</td>\n",
       "      <td>...</td>\n",
       "      <td>1.0000</td>\n",
       "      <td>1.01</td>\n",
       "      <td>0.30</td>\n",
       "      <td>0.9848</td>\n",
       "      <td>0.0</td>\n",
       "      <td>0.49</td>\n",
       "      <td>0.0</td>\n",
       "      <td>0.60</td>\n",
       "      <td>0.0</td>\n",
       "      <td>0.33</td>\n",
       "    </tr>\n",
       "    <tr>\n",
       "      <th>1</th>\n",
       "      <td>0.0</td>\n",
       "      <td>0.0</td>\n",
       "      <td>0.0</td>\n",
       "      <td>0.000000e+00</td>\n",
       "      <td>0.000000e+00</td>\n",
       "      <td>0.000000e+00</td>\n",
       "      <td>0.000000e+00</td>\n",
       "      <td>1.850000e+03</td>\n",
       "      <td>0.000000e+00</td>\n",
       "      <td>0.50</td>\n",
       "      <td>...</td>\n",
       "      <td>0.9841</td>\n",
       "      <td>0.20</td>\n",
       "      <td>0.10</td>\n",
       "      <td>0.9950</td>\n",
       "      <td>0.0</td>\n",
       "      <td>0.49</td>\n",
       "      <td>0.0</td>\n",
       "      <td>0.60</td>\n",
       "      <td>0.0</td>\n",
       "      <td>0.33</td>\n",
       "    </tr>\n",
       "    <tr>\n",
       "      <th>2</th>\n",
       "      <td>0.0</td>\n",
       "      <td>0.0</td>\n",
       "      <td>0.0</td>\n",
       "      <td>0.000000e+00</td>\n",
       "      <td>0.000000e+00</td>\n",
       "      <td>0.000000e+00</td>\n",
       "      <td>0.000000e+00</td>\n",
       "      <td>1.776000e+03</td>\n",
       "      <td>0.000000e+00</td>\n",
       "      <td>0.40</td>\n",
       "      <td>...</td>\n",
       "      <td>0.9990</td>\n",
       "      <td>1.40</td>\n",
       "      <td>0.20</td>\n",
       "      <td>0.9820</td>\n",
       "      <td>0.0</td>\n",
       "      <td>0.49</td>\n",
       "      <td>0.0</td>\n",
       "      <td>0.60</td>\n",
       "      <td>0.0</td>\n",
       "      <td>0.33</td>\n",
       "    </tr>\n",
       "    <tr>\n",
       "      <th>3</th>\n",
       "      <td>0.0</td>\n",
       "      <td>0.0</td>\n",
       "      <td>0.0</td>\n",
       "      <td>0.000000e+00</td>\n",
       "      <td>4.200000e+01</td>\n",
       "      <td>0.000000e+00</td>\n",
       "      <td>0.000000e+00</td>\n",
       "      <td>1.596000e+03</td>\n",
       "      <td>0.000000e+00</td>\n",
       "      <td>0.50</td>\n",
       "      <td>...</td>\n",
       "      <td>1.0000</td>\n",
       "      <td>1.60</td>\n",
       "      <td>0.40</td>\n",
       "      <td>0.9770</td>\n",
       "      <td>0.0</td>\n",
       "      <td>0.49</td>\n",
       "      <td>0.0</td>\n",
       "      <td>0.60</td>\n",
       "      <td>0.0</td>\n",
       "      <td>0.33</td>\n",
       "    </tr>\n",
       "    <tr>\n",
       "      <th>4</th>\n",
       "      <td>0.0</td>\n",
       "      <td>0.0</td>\n",
       "      <td>0.0</td>\n",
       "      <td>0.000000e+00</td>\n",
       "      <td>0.000000e+00</td>\n",
       "      <td>0.000000e+00</td>\n",
       "      <td>0.000000e+00</td>\n",
       "      <td>1.850000e+03</td>\n",
       "      <td>0.000000e+00</td>\n",
       "      <td>0.51</td>\n",
       "      <td>...</td>\n",
       "      <td>0.9927</td>\n",
       "      <td>0.64</td>\n",
       "      <td>0.00</td>\n",
       "      <td>0.9890</td>\n",
       "      <td>0.0</td>\n",
       "      <td>0.49</td>\n",
       "      <td>0.0</td>\n",
       "      <td>0.60</td>\n",
       "      <td>0.0</td>\n",
       "      <td>0.33</td>\n",
       "    </tr>\n",
       "    <tr>\n",
       "      <th>...</th>\n",
       "      <td>...</td>\n",
       "      <td>...</td>\n",
       "      <td>...</td>\n",
       "      <td>...</td>\n",
       "      <td>...</td>\n",
       "      <td>...</td>\n",
       "      <td>...</td>\n",
       "      <td>...</td>\n",
       "      <td>...</td>\n",
       "      <td>...</td>\n",
       "      <td>...</td>\n",
       "      <td>...</td>\n",
       "      <td>...</td>\n",
       "      <td>...</td>\n",
       "      <td>...</td>\n",
       "      <td>...</td>\n",
       "      <td>...</td>\n",
       "      <td>...</td>\n",
       "      <td>...</td>\n",
       "      <td>...</td>\n",
       "      <td>...</td>\n",
       "    </tr>\n",
       "    <tr>\n",
       "      <th>187015</th>\n",
       "      <td>0.0</td>\n",
       "      <td>0.0</td>\n",
       "      <td>0.0</td>\n",
       "      <td>9.690000e+03</td>\n",
       "      <td>1.174800e+04</td>\n",
       "      <td>2.207400e+04</td>\n",
       "      <td>1.197000e+04</td>\n",
       "      <td>1.010400e+04</td>\n",
       "      <td>2.143800e+04</td>\n",
       "      <td>1.10</td>\n",
       "      <td>...</td>\n",
       "      <td>0.9929</td>\n",
       "      <td>1.31</td>\n",
       "      <td>0.71</td>\n",
       "      <td>0.9747</td>\n",
       "      <td>0.0</td>\n",
       "      <td>0.31</td>\n",
       "      <td>0.0</td>\n",
       "      <td>0.31</td>\n",
       "      <td>0.0</td>\n",
       "      <td>0.31</td>\n",
       "    </tr>\n",
       "    <tr>\n",
       "      <th>187016</th>\n",
       "      <td>0.0</td>\n",
       "      <td>0.0</td>\n",
       "      <td>0.0</td>\n",
       "      <td>0.000000e+00</td>\n",
       "      <td>0.000000e+00</td>\n",
       "      <td>0.000000e+00</td>\n",
       "      <td>0.000000e+00</td>\n",
       "      <td>0.000000e+00</td>\n",
       "      <td>0.000000e+00</td>\n",
       "      <td>0.50</td>\n",
       "      <td>...</td>\n",
       "      <td>0.9960</td>\n",
       "      <td>1.38</td>\n",
       "      <td>0.40</td>\n",
       "      <td>0.9822</td>\n",
       "      <td>0.0</td>\n",
       "      <td>0.31</td>\n",
       "      <td>0.0</td>\n",
       "      <td>0.31</td>\n",
       "      <td>0.0</td>\n",
       "      <td>0.31</td>\n",
       "    </tr>\n",
       "    <tr>\n",
       "      <th>187017</th>\n",
       "      <td>0.0</td>\n",
       "      <td>0.0</td>\n",
       "      <td>0.0</td>\n",
       "      <td>0.000000e+00</td>\n",
       "      <td>0.000000e+00</td>\n",
       "      <td>0.000000e+00</td>\n",
       "      <td>0.000000e+00</td>\n",
       "      <td>0.000000e+00</td>\n",
       "      <td>0.000000e+00</td>\n",
       "      <td>0.60</td>\n",
       "      <td>...</td>\n",
       "      <td>0.9970</td>\n",
       "      <td>1.11</td>\n",
       "      <td>0.20</td>\n",
       "      <td>0.9869</td>\n",
       "      <td>0.0</td>\n",
       "      <td>0.31</td>\n",
       "      <td>0.0</td>\n",
       "      <td>0.31</td>\n",
       "      <td>0.0</td>\n",
       "      <td>0.31</td>\n",
       "    </tr>\n",
       "    <tr>\n",
       "      <th>187018</th>\n",
       "      <td>0.0</td>\n",
       "      <td>0.0</td>\n",
       "      <td>0.0</td>\n",
       "      <td>0.000000e+00</td>\n",
       "      <td>0.000000e+00</td>\n",
       "      <td>0.000000e+00</td>\n",
       "      <td>0.000000e+00</td>\n",
       "      <td>0.000000e+00</td>\n",
       "      <td>0.000000e+00</td>\n",
       "      <td>0.20</td>\n",
       "      <td>...</td>\n",
       "      <td>0.9950</td>\n",
       "      <td>1.39</td>\n",
       "      <td>0.30</td>\n",
       "      <td>0.9831</td>\n",
       "      <td>0.0</td>\n",
       "      <td>0.31</td>\n",
       "      <td>0.0</td>\n",
       "      <td>0.31</td>\n",
       "      <td>0.0</td>\n",
       "      <td>0.31</td>\n",
       "    </tr>\n",
       "    <tr>\n",
       "      <th>187019</th>\n",
       "      <td>0.0</td>\n",
       "      <td>0.0</td>\n",
       "      <td>0.0</td>\n",
       "      <td>7.000000e+01</td>\n",
       "      <td>7.000000e+01</td>\n",
       "      <td>7.000000e+01</td>\n",
       "      <td>0.000000e+00</td>\n",
       "      <td>0.000000e+00</td>\n",
       "      <td>0.000000e+00</td>\n",
       "      <td>0.50</td>\n",
       "      <td>...</td>\n",
       "      <td>0.9980</td>\n",
       "      <td>1.20</td>\n",
       "      <td>0.30</td>\n",
       "      <td>0.9850</td>\n",
       "      <td>0.0</td>\n",
       "      <td>0.31</td>\n",
       "      <td>0.0</td>\n",
       "      <td>0.31</td>\n",
       "      <td>0.0</td>\n",
       "      <td>0.31</td>\n",
       "    </tr>\n",
       "  </tbody>\n",
       "</table>\n",
       "<p>187020 rows × 33 columns</p>\n",
       "</div>"
      ],
      "text/plain": [
       "        memory_status_1  memory_status_2  memory_status_3   in_octets_1  \\\n",
       "0                   0.0              0.0              0.0  2.690996e+09   \n",
       "1                   0.0              0.0              0.0  0.000000e+00   \n",
       "2                   0.0              0.0              0.0  0.000000e+00   \n",
       "3                   0.0              0.0              0.0  0.000000e+00   \n",
       "4                   0.0              0.0              0.0  0.000000e+00   \n",
       "...                 ...              ...              ...           ...   \n",
       "187015              0.0              0.0              0.0  9.690000e+03   \n",
       "187016              0.0              0.0              0.0  0.000000e+00   \n",
       "187017              0.0              0.0              0.0  0.000000e+00   \n",
       "187018              0.0              0.0              0.0  0.000000e+00   \n",
       "187019              0.0              0.0              0.0  7.000000e+01   \n",
       "\n",
       "         in_octets_2   in_octets_3  out_octets_1  out_octets_2  out_octets_3  \\\n",
       "0       3.319806e+09  5.962709e+09  3.390005e+09  3.272843e+09  5.785647e+09   \n",
       "1       0.000000e+00  0.000000e+00  0.000000e+00  1.850000e+03  0.000000e+00   \n",
       "2       0.000000e+00  0.000000e+00  0.000000e+00  1.776000e+03  0.000000e+00   \n",
       "3       4.200000e+01  0.000000e+00  0.000000e+00  1.596000e+03  0.000000e+00   \n",
       "4       0.000000e+00  0.000000e+00  0.000000e+00  1.850000e+03  0.000000e+00   \n",
       "...              ...           ...           ...           ...           ...   \n",
       "187015  1.174800e+04  2.207400e+04  1.197000e+04  1.010400e+04  2.143800e+04   \n",
       "187016  0.000000e+00  0.000000e+00  0.000000e+00  0.000000e+00  0.000000e+00   \n",
       "187017  0.000000e+00  0.000000e+00  0.000000e+00  0.000000e+00  0.000000e+00   \n",
       "187018  0.000000e+00  0.000000e+00  0.000000e+00  0.000000e+00  0.000000e+00   \n",
       "187019  7.000000e+01  7.000000e+01  0.000000e+00  0.000000e+00  0.000000e+00   \n",
       "\n",
       "        oper_status_1  ...  system_3  system_4  system_5  system_6  idle_1  \\\n",
       "0                0.55  ...    1.0000      1.01      0.30    0.9848     0.0   \n",
       "1                0.50  ...    0.9841      0.20      0.10    0.9950     0.0   \n",
       "2                0.40  ...    0.9990      1.40      0.20    0.9820     0.0   \n",
       "3                0.50  ...    1.0000      1.60      0.40    0.9770     0.0   \n",
       "4                0.51  ...    0.9927      0.64      0.00    0.9890     0.0   \n",
       "...               ...  ...       ...       ...       ...       ...     ...   \n",
       "187015           1.10  ...    0.9929      1.31      0.71    0.9747     0.0   \n",
       "187016           0.50  ...    0.9960      1.38      0.40    0.9822     0.0   \n",
       "187017           0.60  ...    0.9970      1.11      0.20    0.9869     0.0   \n",
       "187018           0.20  ...    0.9950      1.39      0.30    0.9831     0.0   \n",
       "187019           0.50  ...    0.9980      1.20      0.30    0.9850     0.0   \n",
       "\n",
       "        idle_2  idle_3  idle_4  idle_5  idle_6  \n",
       "0         0.49     0.0    0.60     0.0    0.33  \n",
       "1         0.49     0.0    0.60     0.0    0.33  \n",
       "2         0.49     0.0    0.60     0.0    0.33  \n",
       "3         0.49     0.0    0.60     0.0    0.33  \n",
       "4         0.49     0.0    0.60     0.0    0.33  \n",
       "...        ...     ...     ...     ...     ...  \n",
       "187015    0.31     0.0    0.31     0.0    0.31  \n",
       "187016    0.31     0.0    0.31     0.0    0.31  \n",
       "187017    0.31     0.0    0.31     0.0    0.31  \n",
       "187018    0.31     0.0    0.31     0.0    0.31  \n",
       "187019    0.31     0.0    0.31     0.0    0.31  \n",
       "\n",
       "[187020 rows x 33 columns]"
      ]
     },
     "execution_count": 8,
     "metadata": {},
     "output_type": "execute_result"
    }
   ],
   "source": [
    "X_train = pd.DataFrame(X_train,columns = columns_name)\n",
    "X_train"
   ]
  },
  {
   "cell_type": "code",
   "execution_count": null,
   "metadata": {
    "colab": {
     "base_uri": "https://localhost:8080/",
     "height": 488
    },
    "execution": {
     "iopub.execute_input": "2022-11-06T07:13:04.541038Z",
     "iopub.status.busy": "2022-11-06T07:13:04.540772Z",
     "iopub.status.idle": "2022-11-06T07:13:04.572324Z",
     "shell.execute_reply": "2022-11-06T07:13:04.571867Z",
     "shell.execute_reply.started": "2022-11-06T07:13:04.541018Z"
    },
    "id": "7W50O5Gh_Cip",
    "outputId": "25cdb204-e564-405c-8901-5db5195c9c44",
    "tags": []
   },
   "outputs": [
    {
     "data": {
      "text/html": [
       "<div>\n",
       "<style scoped>\n",
       "    .dataframe tbody tr th:only-of-type {\n",
       "        vertical-align: middle;\n",
       "    }\n",
       "\n",
       "    .dataframe tbody tr th {\n",
       "        vertical-align: top;\n",
       "    }\n",
       "\n",
       "    .dataframe thead th {\n",
       "        text-align: right;\n",
       "    }\n",
       "</style>\n",
       "<table border=\"1\" class=\"dataframe\">\n",
       "  <thead>\n",
       "    <tr style=\"text-align: right;\">\n",
       "      <th></th>\n",
       "      <th>memory_status_1</th>\n",
       "      <th>memory_status_2</th>\n",
       "      <th>memory_status_3</th>\n",
       "      <th>in_octets_1</th>\n",
       "      <th>in_octets_2</th>\n",
       "      <th>in_octets_3</th>\n",
       "      <th>out_octets_1</th>\n",
       "      <th>out_octets_2</th>\n",
       "      <th>out_octets_3</th>\n",
       "      <th>oper_status_1</th>\n",
       "      <th>...</th>\n",
       "      <th>system_3</th>\n",
       "      <th>system_4</th>\n",
       "      <th>system_5</th>\n",
       "      <th>system_6</th>\n",
       "      <th>idle_1</th>\n",
       "      <th>idle_2</th>\n",
       "      <th>idle_3</th>\n",
       "      <th>idle_4</th>\n",
       "      <th>idle_5</th>\n",
       "      <th>idle_6</th>\n",
       "    </tr>\n",
       "  </thead>\n",
       "  <tbody>\n",
       "    <tr>\n",
       "      <th>0</th>\n",
       "      <td>0.0</td>\n",
       "      <td>0.0</td>\n",
       "      <td>0.0</td>\n",
       "      <td>3.313050e+09</td>\n",
       "      <td>4.094691e+09</td>\n",
       "      <td>7.399217e+09</td>\n",
       "      <td>4.183427e+09</td>\n",
       "      <td>4.022139e+09</td>\n",
       "      <td>7.181872e+09</td>\n",
       "      <td>0.40</td>\n",
       "      <td>...</td>\n",
       "      <td>1.0000</td>\n",
       "      <td>1.10</td>\n",
       "      <td>0.6</td>\n",
       "      <td>0.9801</td>\n",
       "      <td>0.0</td>\n",
       "      <td>0.37</td>\n",
       "      <td>0.0</td>\n",
       "      <td>0.34</td>\n",
       "      <td>0.0</td>\n",
       "      <td>0.32</td>\n",
       "    </tr>\n",
       "    <tr>\n",
       "      <th>1</th>\n",
       "      <td>0.0</td>\n",
       "      <td>0.0</td>\n",
       "      <td>0.0</td>\n",
       "      <td>0.000000e+00</td>\n",
       "      <td>4.200000e+01</td>\n",
       "      <td>0.000000e+00</td>\n",
       "      <td>0.000000e+00</td>\n",
       "      <td>1.818000e+03</td>\n",
       "      <td>0.000000e+00</td>\n",
       "      <td>0.49</td>\n",
       "      <td>...</td>\n",
       "      <td>0.9930</td>\n",
       "      <td>0.90</td>\n",
       "      <td>0.1</td>\n",
       "      <td>0.9880</td>\n",
       "      <td>0.0</td>\n",
       "      <td>0.37</td>\n",
       "      <td>0.0</td>\n",
       "      <td>0.34</td>\n",
       "      <td>0.0</td>\n",
       "      <td>0.32</td>\n",
       "    </tr>\n",
       "    <tr>\n",
       "      <th>2</th>\n",
       "      <td>0.0</td>\n",
       "      <td>0.0</td>\n",
       "      <td>0.0</td>\n",
       "      <td>0.000000e+00</td>\n",
       "      <td>0.000000e+00</td>\n",
       "      <td>0.000000e+00</td>\n",
       "      <td>0.000000e+00</td>\n",
       "      <td>1.554000e+03</td>\n",
       "      <td>0.000000e+00</td>\n",
       "      <td>0.10</td>\n",
       "      <td>...</td>\n",
       "      <td>1.0000</td>\n",
       "      <td>1.11</td>\n",
       "      <td>0.4</td>\n",
       "      <td>0.9819</td>\n",
       "      <td>0.0</td>\n",
       "      <td>0.37</td>\n",
       "      <td>0.0</td>\n",
       "      <td>0.34</td>\n",
       "      <td>0.0</td>\n",
       "      <td>0.32</td>\n",
       "    </tr>\n",
       "    <tr>\n",
       "      <th>3</th>\n",
       "      <td>0.0</td>\n",
       "      <td>0.0</td>\n",
       "      <td>0.0</td>\n",
       "      <td>0.000000e+00</td>\n",
       "      <td>0.000000e+00</td>\n",
       "      <td>0.000000e+00</td>\n",
       "      <td>0.000000e+00</td>\n",
       "      <td>1.850000e+03</td>\n",
       "      <td>0.000000e+00</td>\n",
       "      <td>0.81</td>\n",
       "      <td>...</td>\n",
       "      <td>0.9990</td>\n",
       "      <td>1.50</td>\n",
       "      <td>0.2</td>\n",
       "      <td>0.9800</td>\n",
       "      <td>0.0</td>\n",
       "      <td>0.37</td>\n",
       "      <td>0.0</td>\n",
       "      <td>0.34</td>\n",
       "      <td>0.0</td>\n",
       "      <td>0.32</td>\n",
       "    </tr>\n",
       "    <tr>\n",
       "      <th>4</th>\n",
       "      <td>0.0</td>\n",
       "      <td>0.0</td>\n",
       "      <td>0.0</td>\n",
       "      <td>0.000000e+00</td>\n",
       "      <td>0.000000e+00</td>\n",
       "      <td>0.000000e+00</td>\n",
       "      <td>0.000000e+00</td>\n",
       "      <td>1.776000e+03</td>\n",
       "      <td>0.000000e+00</td>\n",
       "      <td>0.90</td>\n",
       "      <td>...</td>\n",
       "      <td>1.0000</td>\n",
       "      <td>1.11</td>\n",
       "      <td>0.2</td>\n",
       "      <td>0.9839</td>\n",
       "      <td>0.0</td>\n",
       "      <td>0.37</td>\n",
       "      <td>0.0</td>\n",
       "      <td>0.34</td>\n",
       "      <td>0.0</td>\n",
       "      <td>0.32</td>\n",
       "    </tr>\n",
       "    <tr>\n",
       "      <th>...</th>\n",
       "      <td>...</td>\n",
       "      <td>...</td>\n",
       "      <td>...</td>\n",
       "      <td>...</td>\n",
       "      <td>...</td>\n",
       "      <td>...</td>\n",
       "      <td>...</td>\n",
       "      <td>...</td>\n",
       "      <td>...</td>\n",
       "      <td>...</td>\n",
       "      <td>...</td>\n",
       "      <td>...</td>\n",
       "      <td>...</td>\n",
       "      <td>...</td>\n",
       "      <td>...</td>\n",
       "      <td>...</td>\n",
       "      <td>...</td>\n",
       "      <td>...</td>\n",
       "      <td>...</td>\n",
       "      <td>...</td>\n",
       "      <td>...</td>\n",
       "    </tr>\n",
       "    <tr>\n",
       "      <th>23355</th>\n",
       "      <td>0.0</td>\n",
       "      <td>0.0</td>\n",
       "      <td>0.0</td>\n",
       "      <td>1.552600e+04</td>\n",
       "      <td>1.843200e+04</td>\n",
       "      <td>3.530400e+04</td>\n",
       "      <td>1.920000e+04</td>\n",
       "      <td>1.795400e+04</td>\n",
       "      <td>3.395800e+04</td>\n",
       "      <td>1.22</td>\n",
       "      <td>...</td>\n",
       "      <td>0.9692</td>\n",
       "      <td>0.89</td>\n",
       "      <td>0.3</td>\n",
       "      <td>0.9881</td>\n",
       "      <td>0.0</td>\n",
       "      <td>0.39</td>\n",
       "      <td>0.0</td>\n",
       "      <td>0.44</td>\n",
       "      <td>0.0</td>\n",
       "      <td>0.32</td>\n",
       "    </tr>\n",
       "    <tr>\n",
       "      <th>23356</th>\n",
       "      <td>0.0</td>\n",
       "      <td>0.0</td>\n",
       "      <td>0.0</td>\n",
       "      <td>0.000000e+00</td>\n",
       "      <td>0.000000e+00</td>\n",
       "      <td>0.000000e+00</td>\n",
       "      <td>0.000000e+00</td>\n",
       "      <td>1.776000e+03</td>\n",
       "      <td>0.000000e+00</td>\n",
       "      <td>0.40</td>\n",
       "      <td>...</td>\n",
       "      <td>0.9900</td>\n",
       "      <td>0.70</td>\n",
       "      <td>0.2</td>\n",
       "      <td>0.9910</td>\n",
       "      <td>0.0</td>\n",
       "      <td>0.39</td>\n",
       "      <td>0.0</td>\n",
       "      <td>0.44</td>\n",
       "      <td>0.0</td>\n",
       "      <td>0.32</td>\n",
       "    </tr>\n",
       "    <tr>\n",
       "      <th>23357</th>\n",
       "      <td>0.0</td>\n",
       "      <td>0.0</td>\n",
       "      <td>0.0</td>\n",
       "      <td>0.000000e+00</td>\n",
       "      <td>0.000000e+00</td>\n",
       "      <td>0.000000e+00</td>\n",
       "      <td>0.000000e+00</td>\n",
       "      <td>1.554000e+03</td>\n",
       "      <td>0.000000e+00</td>\n",
       "      <td>0.10</td>\n",
       "      <td>...</td>\n",
       "      <td>0.9950</td>\n",
       "      <td>1.50</td>\n",
       "      <td>0.3</td>\n",
       "      <td>0.9820</td>\n",
       "      <td>0.0</td>\n",
       "      <td>0.39</td>\n",
       "      <td>0.0</td>\n",
       "      <td>0.44</td>\n",
       "      <td>0.0</td>\n",
       "      <td>0.32</td>\n",
       "    </tr>\n",
       "    <tr>\n",
       "      <th>23358</th>\n",
       "      <td>0.0</td>\n",
       "      <td>0.0</td>\n",
       "      <td>0.0</td>\n",
       "      <td>0.000000e+00</td>\n",
       "      <td>4.200000e+01</td>\n",
       "      <td>0.000000e+00</td>\n",
       "      <td>0.000000e+00</td>\n",
       "      <td>1.892000e+03</td>\n",
       "      <td>0.000000e+00</td>\n",
       "      <td>0.00</td>\n",
       "      <td>...</td>\n",
       "      <td>0.9900</td>\n",
       "      <td>0.60</td>\n",
       "      <td>0.2</td>\n",
       "      <td>0.9920</td>\n",
       "      <td>0.0</td>\n",
       "      <td>0.39</td>\n",
       "      <td>0.0</td>\n",
       "      <td>0.44</td>\n",
       "      <td>0.0</td>\n",
       "      <td>0.32</td>\n",
       "    </tr>\n",
       "    <tr>\n",
       "      <th>23359</th>\n",
       "      <td>0.0</td>\n",
       "      <td>0.0</td>\n",
       "      <td>0.0</td>\n",
       "      <td>0.000000e+00</td>\n",
       "      <td>0.000000e+00</td>\n",
       "      <td>0.000000e+00</td>\n",
       "      <td>0.000000e+00</td>\n",
       "      <td>1.776000e+03</td>\n",
       "      <td>0.000000e+00</td>\n",
       "      <td>0.00</td>\n",
       "      <td>...</td>\n",
       "      <td>0.9960</td>\n",
       "      <td>1.11</td>\n",
       "      <td>0.2</td>\n",
       "      <td>0.9869</td>\n",
       "      <td>0.0</td>\n",
       "      <td>0.39</td>\n",
       "      <td>0.0</td>\n",
       "      <td>0.44</td>\n",
       "      <td>0.0</td>\n",
       "      <td>0.32</td>\n",
       "    </tr>\n",
       "  </tbody>\n",
       "</table>\n",
       "<p>23360 rows × 33 columns</p>\n",
       "</div>"
      ],
      "text/plain": [
       "       memory_status_1  memory_status_2  memory_status_3   in_octets_1  \\\n",
       "0                  0.0              0.0              0.0  3.313050e+09   \n",
       "1                  0.0              0.0              0.0  0.000000e+00   \n",
       "2                  0.0              0.0              0.0  0.000000e+00   \n",
       "3                  0.0              0.0              0.0  0.000000e+00   \n",
       "4                  0.0              0.0              0.0  0.000000e+00   \n",
       "...                ...              ...              ...           ...   \n",
       "23355              0.0              0.0              0.0  1.552600e+04   \n",
       "23356              0.0              0.0              0.0  0.000000e+00   \n",
       "23357              0.0              0.0              0.0  0.000000e+00   \n",
       "23358              0.0              0.0              0.0  0.000000e+00   \n",
       "23359              0.0              0.0              0.0  0.000000e+00   \n",
       "\n",
       "        in_octets_2   in_octets_3  out_octets_1  out_octets_2  out_octets_3  \\\n",
       "0      4.094691e+09  7.399217e+09  4.183427e+09  4.022139e+09  7.181872e+09   \n",
       "1      4.200000e+01  0.000000e+00  0.000000e+00  1.818000e+03  0.000000e+00   \n",
       "2      0.000000e+00  0.000000e+00  0.000000e+00  1.554000e+03  0.000000e+00   \n",
       "3      0.000000e+00  0.000000e+00  0.000000e+00  1.850000e+03  0.000000e+00   \n",
       "4      0.000000e+00  0.000000e+00  0.000000e+00  1.776000e+03  0.000000e+00   \n",
       "...             ...           ...           ...           ...           ...   \n",
       "23355  1.843200e+04  3.530400e+04  1.920000e+04  1.795400e+04  3.395800e+04   \n",
       "23356  0.000000e+00  0.000000e+00  0.000000e+00  1.776000e+03  0.000000e+00   \n",
       "23357  0.000000e+00  0.000000e+00  0.000000e+00  1.554000e+03  0.000000e+00   \n",
       "23358  4.200000e+01  0.000000e+00  0.000000e+00  1.892000e+03  0.000000e+00   \n",
       "23359  0.000000e+00  0.000000e+00  0.000000e+00  1.776000e+03  0.000000e+00   \n",
       "\n",
       "       oper_status_1  ...  system_3  system_4  system_5  system_6  idle_1  \\\n",
       "0               0.40  ...    1.0000      1.10       0.6    0.9801     0.0   \n",
       "1               0.49  ...    0.9930      0.90       0.1    0.9880     0.0   \n",
       "2               0.10  ...    1.0000      1.11       0.4    0.9819     0.0   \n",
       "3               0.81  ...    0.9990      1.50       0.2    0.9800     0.0   \n",
       "4               0.90  ...    1.0000      1.11       0.2    0.9839     0.0   \n",
       "...              ...  ...       ...       ...       ...       ...     ...   \n",
       "23355           1.22  ...    0.9692      0.89       0.3    0.9881     0.0   \n",
       "23356           0.40  ...    0.9900      0.70       0.2    0.9910     0.0   \n",
       "23357           0.10  ...    0.9950      1.50       0.3    0.9820     0.0   \n",
       "23358           0.00  ...    0.9900      0.60       0.2    0.9920     0.0   \n",
       "23359           0.00  ...    0.9960      1.11       0.2    0.9869     0.0   \n",
       "\n",
       "       idle_2  idle_3  idle_4  idle_5  idle_6  \n",
       "0        0.37     0.0    0.34     0.0    0.32  \n",
       "1        0.37     0.0    0.34     0.0    0.32  \n",
       "2        0.37     0.0    0.34     0.0    0.32  \n",
       "3        0.37     0.0    0.34     0.0    0.32  \n",
       "4        0.37     0.0    0.34     0.0    0.32  \n",
       "...       ...     ...     ...     ...     ...  \n",
       "23355    0.39     0.0    0.44     0.0    0.32  \n",
       "23356    0.39     0.0    0.44     0.0    0.32  \n",
       "23357    0.39     0.0    0.44     0.0    0.32  \n",
       "23358    0.39     0.0    0.44     0.0    0.32  \n",
       "23359    0.39     0.0    0.44     0.0    0.32  \n",
       "\n",
       "[23360 rows x 33 columns]"
      ]
     },
     "execution_count": 9,
     "metadata": {},
     "output_type": "execute_result"
    }
   ],
   "source": [
    "X_test = pd.DataFrame(X_test,columns = columns_name)\n",
    "X_test"
   ]
  },
  {
   "cell_type": "code",
   "execution_count": null,
   "metadata": {
    "colab": {
     "base_uri": "https://localhost:8080/"
    },
    "execution": {
     "iopub.execute_input": "2022-11-06T07:13:04.573544Z",
     "iopub.status.busy": "2022-11-06T07:13:04.573295Z",
     "iopub.status.idle": "2022-11-06T07:13:04.577930Z",
     "shell.execute_reply": "2022-11-06T07:13:04.577428Z",
     "shell.execute_reply.started": "2022-11-06T07:13:04.573525Z"
    },
    "id": "5GjWrZ0UK9xV",
    "outputId": "e24e329f-8f99-477c-ace6-515aeace9faf",
    "tags": []
   },
   "outputs": [
    {
     "data": {
      "text/plain": [
       "memory_status_1    float64\n",
       "memory_status_2    float64\n",
       "memory_status_3    float64\n",
       "in_octets_1        float64\n",
       "in_octets_2        float64\n",
       "in_octets_3        float64\n",
       "out_octets_1       float64\n",
       "out_octets_2       float64\n",
       "out_octets_3       float64\n",
       "oper_status_1      float64\n",
       "oper_status_2      float64\n",
       "oper_status_3      float64\n",
       "used_precent_1     float64\n",
       "used_precent_2     float64\n",
       "used_precent_3     float64\n",
       "user_1             float64\n",
       "user_2             float64\n",
       "user_3             float64\n",
       "user_4             float64\n",
       "user_5             float64\n",
       "user_6             float64\n",
       "system_1           float64\n",
       "system_2           float64\n",
       "system_3           float64\n",
       "system_4           float64\n",
       "system_5           float64\n",
       "system_6           float64\n",
       "idle_1             float64\n",
       "idle_2             float64\n",
       "idle_3             float64\n",
       "idle_4             float64\n",
       "idle_5             float64\n",
       "idle_6             float64\n",
       "dtype: object"
      ]
     },
     "execution_count": 10,
     "metadata": {},
     "output_type": "execute_result"
    }
   ],
   "source": [
    "X_test.dtypes"
   ]
  },
  {
   "cell_type": "code",
   "execution_count": null,
   "metadata": {
    "execution": {
     "iopub.execute_input": "2022-11-06T07:14:48.764921Z",
     "iopub.status.busy": "2022-11-06T07:14:48.764536Z",
     "iopub.status.idle": "2022-11-06T07:14:48.769668Z",
     "shell.execute_reply": "2022-11-06T07:14:48.769038Z",
     "shell.execute_reply.started": "2022-11-06T07:14:48.764896Z"
    },
    "id": "w6FNaCMR6Liq",
    "tags": []
   },
   "outputs": [],
   "source": [
    "def plot_tsne(X, y, target_names,title):\n",
    "    tsne = TSNE(n_components=2, random_state=0)\n",
    "    X_2d = tsne.fit_transform(X)\n",
    "    \n",
    "    target_ids = range(len(target_names))\n",
    "\n",
    "    plt.figure(figsize=(9, 7))\n",
    "    colors = 'r', 'g', 'b', 'c', 'm', 'y'\n",
    "    for i, c, label in zip(target_ids, colors, target_names):\n",
    "        plt.scatter(X_2d[y == i, 0], X_2d[y == i, 1], c=c, label=label)\n",
    "    \n",
    "    plt.title(title)\n",
    "    plt.legend()\n",
    "    plt.show()"
   ]
  },
  {
   "cell_type": "markdown",
   "metadata": {
    "id": "haz7x-f2rcXg"
   },
   "source": [
    "## **Develop baseline models**"
   ]
  },
  {
   "cell_type": "code",
   "execution_count": null,
   "metadata": {
    "execution": {
     "iopub.execute_input": "2022-11-06T07:14:49.776494Z",
     "iopub.status.busy": "2022-11-06T07:14:49.776136Z",
     "iopub.status.idle": "2022-11-06T07:14:49.779941Z",
     "shell.execute_reply": "2022-11-06T07:14:49.779285Z",
     "shell.execute_reply.started": "2022-11-06T07:14:49.776468Z"
    },
    "id": "kBr2xs3ttCi_",
    "tags": []
   },
   "outputs": [],
   "source": [
    "def baseline_model(model,X_train,y_train,X_test):\n",
    "    model.fit(X_train, y_train)\n",
    "    model_pred = model.predict(X_test)\n",
    "    return model_pred\n"
   ]
  },
  {
   "cell_type": "code",
   "execution_count": null,
   "metadata": {
    "execution": {
     "iopub.execute_input": "2022-11-06T07:14:52.840170Z",
     "iopub.status.busy": "2022-11-06T07:14:52.839801Z",
     "iopub.status.idle": "2022-11-06T07:14:52.844598Z",
     "shell.execute_reply": "2022-11-06T07:14:52.843957Z",
     "shell.execute_reply.started": "2022-11-06T07:14:52.840143Z"
    },
    "id": "D9kIbSUht1Dv",
    "tags": []
   },
   "outputs": [],
   "source": [
    "def model_information(model_pred,y_test,title):\n",
    " \n",
    "    print(accuracy_score(y_test, model_pred))\n",
    "    print(classification_report(y_test, model_pred))\n",
    "    # print(confusion_matrix(y_test,  model_pred))\n",
    "    \n",
    "    cm = confusion_matrix(y_test, model_pred, labels=[0,1,2,3,4,5])\n",
    "    print(cm)\n",
    "    disp = ConfusionMatrixDisplay(confusion_matrix=cm,display_labels=[0,1,2,3,4,5])\n",
    "    disp.plot()\n",
    "    plt.title(title)\n",
    "    plt.show()\n",
    "    pass\n"
   ]
  },
  {
   "cell_type": "markdown",
   "metadata": {
    "id": "hdhXn1pKriIf"
   },
   "source": [
    "##  **1- Apply xgboost model**\n"
   ]
  },
  {
   "cell_type": "code",
   "execution_count": null,
   "metadata": {
    "execution": {
     "iopub.execute_input": "2022-11-06T07:14:56.820753Z",
     "iopub.status.busy": "2022-11-06T07:14:56.820384Z",
     "iopub.status.idle": "2022-11-06T07:14:56.824053Z",
     "shell.execute_reply": "2022-11-06T07:14:56.823386Z",
     "shell.execute_reply.started": "2022-11-06T07:14:56.820725Z"
    },
    "id": "GYjVLvo6rfEO",
    "tags": []
   },
   "outputs": [],
   "source": [
    "#create the model \n",
    "Model1_xgboost=XGBClassifier(random_state=42)"
   ]
  },
  {
   "cell_type": "code",
   "execution_count": null,
   "metadata": {
    "execution": {
     "iopub.execute_input": "2022-11-04T19:20:41.243499Z",
     "iopub.status.busy": "2022-11-04T19:20:41.243135Z",
     "iopub.status.idle": "2022-11-04T19:21:22.238527Z",
     "shell.execute_reply": "2022-11-04T19:21:22.237940Z",
     "shell.execute_reply.started": "2022-11-04T19:20:41.243474Z"
    },
    "id": "IMRPA8GGsZW-",
    "outputId": "76a289fd-4e77-4a26-b3b4-b73bdc6da874",
    "tags": []
   },
   "outputs": [
    {
     "name": "stdout",
     "output_type": "stream",
     "text": [
      "[19:20:41] WARNING: /home/conda/feedstock_root/build_artifacts/xgboost-split_1645117766796/work/src/learner.cc:1115: Starting in XGBoost 1.3.0, the default evaluation metric used with the objective 'multi:softprob' was changed from 'merror' to 'mlogloss'. Explicitly set eval_metric if you'd like to restore the old behavior.\n"
     ]
    }
   ],
   "source": [
    "# Model1_xgboost_pred=baseline_model(Model1_xgboost,X_train,y_train,X_test)"
   ]
  },
  {
   "cell_type": "code",
   "execution_count": null,
   "metadata": {
    "execution": {
     "iopub.execute_input": "2022-11-06T07:15:11.172059Z",
     "iopub.status.busy": "2022-11-06T07:15:11.171683Z",
     "iopub.status.idle": "2022-11-06T07:15:54.378933Z",
     "shell.execute_reply": "2022-11-06T07:15:54.378008Z",
     "shell.execute_reply.started": "2022-11-06T07:15:11.172035Z"
    },
    "id": "OhdPC0UmaYIP",
    "outputId": "60ea68be-8261-4995-f791-0567dc32bb82"
   },
   "outputs": [
    {
     "name": "stdout",
     "output_type": "stream",
     "text": [
      "[07:15:11] WARNING: /home/conda/feedstock_root/build_artifacts/xgboost-split_1645117766796/work/src/learner.cc:1115: Starting in XGBoost 1.3.0, the default evaluation metric used with the objective 'multi:softprob' was changed from 'merror' to 'mlogloss'. Explicitly set eval_metric if you'd like to restore the old behavior.\n",
      "CPU times: user 5min 23s, sys: 6.47 s, total: 5min 29s\n",
      "Wall time: 43.2 s\n"
     ]
    }
   ],
   "source": [
    "%%time \n",
    "Model1_xgboost_pred=baseline_model(Model1_xgboost,X_train,y_train,X_test)"
   ]
  },
  {
   "cell_type": "code",
   "execution_count": null,
   "metadata": {
    "colab": {
     "base_uri": "https://localhost:8080/",
     "height": 715
    },
    "execution": {
     "iopub.execute_input": "2022-11-04T19:22:29.377794Z",
     "iopub.status.busy": "2022-11-04T19:22:29.377404Z",
     "iopub.status.idle": "2022-11-04T19:22:29.631970Z",
     "shell.execute_reply": "2022-11-04T19:22:29.631418Z",
     "shell.execute_reply.started": "2022-11-04T19:22:29.377767Z"
    },
    "id": "-s2EZsGvqC_x",
    "outputId": "f426172b-b667-44a3-b257-702c5033da3d",
    "tags": []
   },
   "outputs": [
    {
     "name": "stdout",
     "output_type": "stream",
     "text": [
      "0.9645976027397261\n",
      "              precision    recall  f1-score   support\n",
      "\n",
      "           0       0.99      0.97      0.98     21900\n",
      "           1       0.81      0.71      0.76       308\n",
      "           2       0.35      1.00      0.52       287\n",
      "           3       0.84      0.38      0.53       280\n",
      "           4       1.00      1.00      1.00       291\n",
      "           5       1.00      0.98      0.99       294\n",
      "\n",
      "    accuracy                           0.96     23360\n",
      "   macro avg       0.83      0.84      0.80     23360\n",
      "weighted avg       0.98      0.96      0.97     23360\n",
      "\n",
      "[[21342    24   519    15     0     0]\n",
      " [   85   218     0     5     0     0]\n",
      " [    0     0   287     0     0     0]\n",
      " [  146    27     0   107     0     0]\n",
      " [    0     0     1     0   290     0]\n",
      " [    0     0     5     0     0   289]]\n"
     ]
    },
    {
     "data": {
      "image/png": "[encoded data removed]",
      "text/plain": [
       "<Figure size 720x360 with 2 Axes>"
      ]
     },
     "metadata": {
      "needs_background": "light"
     },
     "output_type": "display_data"
    }
   ],
   "source": [
    "model_information(Model1_xgboost_pred,y_test,\"xgboost baseline\")"
   ]
  },
  {
   "cell_type": "code",
   "execution_count": null,
   "metadata": {
    "execution": {
     "iopub.execute_input": "2022-11-04T19:22:36.234147Z",
     "iopub.status.busy": "2022-11-04T19:22:36.233771Z",
     "iopub.status.idle": "2022-11-04T19:22:36.237249Z",
     "shell.execute_reply": "2022-11-04T19:22:36.236684Z",
     "shell.execute_reply.started": "2022-11-04T19:22:36.234122Z"
    },
    "id": "DNqjXbu_gZg1"
   },
   "outputs": [],
   "source": [
    "target_names=[0,1,2,3,4,5]"
   ]
  },
  {
   "cell_type": "code",
   "execution_count": null,
   "metadata": {
    "execution": {
     "iopub.execute_input": "2022-11-04T19:22:40.789499Z",
     "iopub.status.busy": "2022-11-04T19:22:40.789123Z",
     "iopub.status.idle": "2022-11-04T19:45:04.677715Z",
     "shell.execute_reply": "2022-11-04T19:45:04.677014Z",
     "shell.execute_reply.started": "2022-11-04T19:22:40.789474Z"
    },
    "id": "MML6NritYBii",
    "tags": []
   },
   "outputs": [],
   "source": [
    "from sklearn.manifold import TSNE\n",
    "tsne = TSNE(n_components= 2 ,random_state=0)\n",
    "z = tsne.fit_transform(X_train)\n"
   ]
  },
  {
   "cell_type": "code",
   "execution_count": null,
   "metadata": {
    "execution": {
     "iopub.execute_input": "2022-11-04T20:29:09.438337Z",
     "iopub.status.busy": "2022-11-04T20:29:09.437950Z",
     "iopub.status.idle": "2022-11-04T20:30:30.812637Z",
     "shell.execute_reply": "2022-11-04T20:30:30.812009Z",
     "shell.execute_reply.started": "2022-11-04T20:29:09.438312Z"
    },
    "id": "jq1udIVxaYIR",
    "tags": []
   },
   "outputs": [],
   "source": [
    "z_x_test = tsne.fit_transform(X_test)\n"
   ]
  },
  {
   "cell_type": "code",
   "execution_count": null,
   "metadata": {
    "execution": {
     "iopub.execute_input": "2022-11-04T21:19:32.050205Z",
     "iopub.status.busy": "2022-11-04T21:19:32.049742Z",
     "iopub.status.idle": "2022-11-04T21:19:32.054167Z",
     "shell.execute_reply": "2022-11-04T21:19:32.053475Z",
     "shell.execute_reply.started": "2022-11-04T21:19:32.050169Z"
    },
    "id": "VNDqi6TjaYIR",
    "tags": []
   },
   "outputs": [],
   "source": [
    "Model1_xgboost=XGBClassifier(random_state=42)"
   ]
  },
  {
   "cell_type": "code",
   "execution_count": null,
   "metadata": {
    "execution": {
     "iopub.execute_input": "2022-11-04T21:19:33.165894Z",
     "iopub.status.busy": "2022-11-04T21:19:33.165535Z",
     "iopub.status.idle": "2022-11-04T21:20:16.579048Z",
     "shell.execute_reply": "2022-11-04T21:20:16.578550Z",
     "shell.execute_reply.started": "2022-11-04T21:19:33.165871Z"
    },
    "id": "76ESfjmRaYIR",
    "outputId": "2fbf3a69-bc01-48ea-ca4c-3b4476940a6c",
    "tags": []
   },
   "outputs": [
    {
     "name": "stdout",
     "output_type": "stream",
     "text": [
      "[21:19:33] WARNING: /home/conda/feedstock_root/build_artifacts/xgboost-split_1645117766796/work/src/learner.cc:1115: Starting in XGBoost 1.3.0, the default evaluation metric used with the objective 'multi:softprob' was changed from 'merror' to 'mlogloss'. Explicitly set eval_metric if you'd like to restore the old behavior.\n"
     ]
    },
    {
     "data": {
      "text/plain": [
       "XGBClassifier(base_score=0.5, booster='gbtree', colsample_bylevel=1,\n",
       "              colsample_bynode=1, colsample_bytree=1, enable_categorical=False,\n",
       "              gamma=0, gpu_id=-1, importance_type=None,\n",
       "              interaction_constraints='', learning_rate=0.300000012,\n",
       "              max_delta_step=0, max_depth=6, min_child_weight=1, missing=nan,\n",
       "              monotone_constraints='()', n_estimators=100, n_jobs=8,\n",
       "              num_parallel_tree=1, objective='multi:softprob', predictor='auto',\n",
       "              random_state=42, reg_alpha=0, reg_lambda=1, scale_pos_weight=None,\n",
       "              subsample=1, tree_method='exact', validate_parameters=1,\n",
       "              verbosity=None)"
      ]
     },
     "execution_count": 59,
     "metadata": {},
     "output_type": "execute_result"
    }
   ],
   "source": [
    "Model1_xgboost.fit(z,y_train)"
   ]
  },
  {
   "cell_type": "code",
   "execution_count": null,
   "metadata": {
    "execution": {
     "iopub.execute_input": "2022-11-04T21:20:52.692592Z",
     "iopub.status.busy": "2022-11-04T21:20:52.692213Z",
     "iopub.status.idle": "2022-11-04T21:20:53.139156Z",
     "shell.execute_reply": "2022-11-04T21:20:53.138503Z",
     "shell.execute_reply.started": "2022-11-04T21:20:52.692567Z"
    },
    "id": "bseLR1m1aYIR",
    "tags": []
   },
   "outputs": [],
   "source": [
    "Model1_xgboost_pred=Model1_xgboost.predict(z)"
   ]
  },
  {
   "cell_type": "code",
   "execution_count": null,
   "metadata": {
    "execution": {
     "iopub.execute_input": "2022-11-04T20:37:14.396485Z",
     "iopub.status.busy": "2022-11-04T20:37:14.396103Z",
     "iopub.status.idle": "2022-11-04T20:37:24.508143Z",
     "shell.execute_reply": "2022-11-04T20:37:24.507422Z",
     "shell.execute_reply.started": "2022-11-04T20:37:14.396460Z"
    },
    "id": "KujsbbRLaYIS",
    "outputId": "24a2c82d-01bc-45fa-c222-8dfdb8de82ad"
   },
   "outputs": [
    {
     "name": "stdout",
     "output_type": "stream",
     "text": [
      "Collecting plotly\n",
      "  Downloading plotly-5.11.0-py2.py3-none-any.whl (15.3 MB)\n",
      "\u001b[2K     \u001b[90m━━━━━━━━━━━━━━━━━━━━━━━━━━━━━━━━━━━━━━━━\u001b[0m \u001b[32m15.3/15.3 MB\u001b[0m \u001b[31m80.4 MB/s\u001b[0m eta \u001b[36m0:00:00\u001b[0m00:01\u001b[0m00:01\u001b[0m\n",
      "\u001b[?25hCollecting tenacity>=6.2.0\n",
      "  Downloading tenacity-8.1.0-py3-none-any.whl (23 kB)\n",
      "Installing collected packages: tenacity, plotly\n",
      "Successfully installed plotly-5.11.0 tenacity-8.1.0\n"
     ]
    }
   ],
   "source": [
    "# !pip install plotly"
   ]
  },
  {
   "cell_type": "code",
   "execution_count": null,
   "metadata": {
    "execution": {
     "iopub.execute_input": "2022-11-04T21:20:17.051559Z",
     "iopub.status.busy": "2022-11-04T21:20:17.051135Z",
     "iopub.status.idle": "2022-11-04T21:20:17.054674Z",
     "shell.execute_reply": "2022-11-04T21:20:17.054111Z",
     "shell.execute_reply.started": "2022-11-04T21:20:17.051532Z"
    },
    "id": "NBJsJeNzaYIS",
    "tags": []
   },
   "outputs": [],
   "source": [
    "# import matplotlib.pyplot as plt\n",
    "# import plotly.express as px"
   ]
  },
  {
   "cell_type": "code",
   "execution_count": null,
   "metadata": {
    "execution": {
     "iopub.execute_input": "2022-11-04T21:24:01.751399Z",
     "iopub.status.busy": "2022-11-04T21:24:01.751005Z",
     "iopub.status.idle": "2022-11-04T21:24:01.755841Z",
     "shell.execute_reply": "2022-11-04T21:24:01.755345Z",
     "shell.execute_reply.started": "2022-11-04T21:24:01.751374Z"
    },
    "id": "1nmqpsp3aYIS"
   },
   "outputs": [],
   "source": [
    "%matplotlib inline"
   ]
  },
  {
   "cell_type": "code",
   "execution_count": null,
   "metadata": {
    "colab": {
     "base_uri": "https://localhost:8080/",
     "height": 336
    },
    "execution": {
     "iopub.execute_input": "2022-11-04T21:32:40.198032Z",
     "iopub.status.busy": "2022-11-04T21:32:40.197657Z",
     "iopub.status.idle": "2022-11-04T21:55:07.111518Z",
     "shell.execute_reply": "2022-11-04T21:55:07.111010Z",
     "shell.execute_reply.started": "2022-11-04T21:32:40.198007Z"
    },
    "id": "qokrNw7ZgP_m",
    "outputId": "675033ec-2f1b-473d-a2f4-bdc8147ddb1f",
    "tags": []
   },
   "outputs": [
    {
     "data": {
      "image/png": "[encoded data removed]",
      "text/plain": [
       "<Figure size 648x504 with 1 Axes>"
      ]
     },
     "metadata": {
      "needs_background": "light"
     },
     "output_type": "display_data"
    }
   ],
   "source": [
    "plot_tsne(X_train,Model1_xgboost_pred, target_names,\"tsne for xgboost baseline\")"
   ]
  },
  {
   "cell_type": "markdown",
   "metadata": {
    "id": "rMp4NOwHC71T"
   },
   "source": [
    "## **2- Appy Logistic Regression model** \n"
   ]
  },
  {
   "cell_type": "code",
   "execution_count": null,
   "metadata": {
    "id": "JdOt84MWFYQb"
   },
   "outputs": [],
   "source": [
    "from sklearn.linear_model import LogisticRegression"
   ]
  },
  {
   "cell_type": "code",
   "execution_count": null,
   "metadata": {
    "colab": {
     "base_uri": "https://localhost:8080/",
     "height": 715
    },
    "id": "uMrAdppAqC7g",
    "outputId": "6985288d-1dc3-4a94-e489-72a93ea0fab0"
   },
   "outputs": [
    {
     "name": "stdout",
     "output_type": "stream",
     "text": [
      "0.9363013698630137\n",
      "              precision    recall  f1-score   support\n",
      "\n",
      "           0       0.94      1.00      0.97     21900\n",
      "           1       0.00      0.00      0.00       308\n",
      "           2       0.30      0.06      0.10       287\n",
      "           3       0.39      0.07      0.12       280\n",
      "           4       0.00      0.00      0.00       291\n",
      "           5       0.00      0.00      0.00       294\n",
      "\n",
      "    accuracy                           0.94     23360\n",
      "   macro avg       0.27      0.19      0.20     23360\n",
      "weighted avg       0.89      0.94      0.91     23360\n",
      "\n",
      "[[21836     5    12    27    15     5]\n",
      " [  287     0    21     0     0     0]\n",
      " [  267     0    17     3     0     0]\n",
      " [  245     3     7    19     5     1]\n",
      " [  291     0     0     0     0     0]\n",
      " [  294     0     0     0     0     0]]\n"
     ]
    },
    {
     "data": {
      "image/png": "[encoded data removed]",
      "text/plain": [
       "<Figure size 720x360 with 2 Axes>"
      ]
     },
     "metadata": {
      "needs_background": "light"
     },
     "output_type": "display_data"
    }
   ],
   "source": [
    "Model2_LogisticRegression=LogisticRegression(multi_class='auto',random_state=42)\n",
    "Model2_LogisticRegression_pred=baseline_model(Model2_LogisticRegression,X_train,y_train,X_test)\n",
    "model_information(Model2_LogisticRegression_pred,y_test,\"Model LogisticRegression baseline\")\n"
   ]
  },
  {
   "cell_type": "markdown",
   "metadata": {
    "id": "W3I_coBDDiLa"
   },
   "source": [
    "## **3- Apply Naive Bayes model**\n"
   ]
  },
  {
   "cell_type": "code",
   "execution_count": null,
   "metadata": {
    "id": "Rk3X0dIOqCz1"
   },
   "outputs": [],
   "source": [
    "from sklearn.naive_bayes import GaussianNB"
   ]
  },
  {
   "cell_type": "code",
   "execution_count": null,
   "metadata": {
    "colab": {
     "base_uri": "https://localhost:8080/",
     "height": 715
    },
    "id": "b0OeVrFaqCxm",
    "outputId": "72f35015-c491-4fef-eda2-564a24b86d7d"
   },
   "outputs": [
    {
     "name": "stdout",
     "output_type": "stream",
     "text": [
      "0.02658390410958904\n",
      "              precision    recall  f1-score   support\n",
      "\n",
      "           0       0.91      0.01      0.02     21900\n",
      "           1       0.00      0.00      0.00       308\n",
      "           2       0.02      0.88      0.03       287\n",
      "           3       0.03      0.15      0.05       280\n",
      "           4       0.01      0.22      0.03       291\n",
      "           5       0.01      0.05      0.01       294\n",
      "\n",
      "    accuracy                           0.03     23360\n",
      "   macro avg       0.16      0.22      0.02     23360\n",
      "weighted avg       0.85      0.03      0.02     23360\n",
      "\n",
      "[[  249     0 14551  1418  4150  1532]\n",
      " [    0     0   281     8    13     6]\n",
      " [    0     0   252    12    18     5]\n",
      " [    0     0   191    43    32    14]\n",
      " [   14     0   176    15    63    23]\n",
      " [   11     0   179    22    68    14]]\n"
     ]
    },
    {
     "data": {
      "image/png": "[encoded data removed]",
      "text/plain": [
       "<Figure size 720x360 with 2 Axes>"
      ]
     },
     "metadata": {
      "needs_background": "light"
     },
     "output_type": "display_data"
    }
   ],
   "source": [
    "Model3_gnb = GaussianNB()\n",
    "Model3_gnb_pred=baseline_model(Model3_gnb,X_train,y_train,X_test)\n",
    "model_information(Model3_gnb_pred,y_test,\"Model GaussianNB baseline\")"
   ]
  },
  {
   "cell_type": "markdown",
   "metadata": {
    "id": "Cv0ha7oQEafJ"
   },
   "source": [
    "## **4- Apply Random Forest model**\n"
   ]
  },
  {
   "cell_type": "code",
   "execution_count": null,
   "metadata": {
    "execution": {
     "iopub.execute_input": "2022-11-06T07:17:13.563903Z",
     "iopub.status.busy": "2022-11-06T07:17:13.563107Z",
     "iopub.status.idle": "2022-11-06T07:17:13.567190Z",
     "shell.execute_reply": "2022-11-06T07:17:13.566595Z",
     "shell.execute_reply.started": "2022-11-06T07:17:13.563863Z"
    },
    "id": "dFLzd4N0E4lL"
   },
   "outputs": [],
   "source": [
    "from sklearn.ensemble import RandomForestClassifier\n"
   ]
  },
  {
   "cell_type": "code",
   "execution_count": null,
   "metadata": {
    "execution": {
     "iopub.execute_input": "2022-11-06T07:17:14.528476Z",
     "iopub.status.busy": "2022-11-06T07:17:14.528114Z",
     "iopub.status.idle": "2022-11-06T07:17:14.531412Z",
     "shell.execute_reply": "2022-11-06T07:17:14.530888Z",
     "shell.execute_reply.started": "2022-11-06T07:17:14.528451Z"
    },
    "id": "2DJBPlbHaYIU"
   },
   "outputs": [],
   "source": [
    "Mode4_RFC = RandomForestClassifier(random_state=42)\n"
   ]
  },
  {
   "cell_type": "code",
   "execution_count": null,
   "metadata": {
    "execution": {
     "iopub.execute_input": "2022-11-06T07:17:17.133593Z",
     "iopub.status.busy": "2022-11-06T07:17:17.133222Z",
     "iopub.status.idle": "2022-11-06T07:18:24.872986Z",
     "shell.execute_reply": "2022-11-06T07:18:24.872258Z",
     "shell.execute_reply.started": "2022-11-06T07:17:17.133568Z"
    },
    "id": "W6cDLWYwaYIU",
    "outputId": "08ede61d-7f0e-40be-f24b-097df28580d1"
   },
   "outputs": [
    {
     "name": "stdout",
     "output_type": "stream",
     "text": [
      "CPU times: user 1min 7s, sys: 7.48 ms, total: 1min 7s\n",
      "Wall time: 1min 7s\n"
     ]
    }
   ],
   "source": [
    "%%time\n",
    "Mode4_RFC_pred=baseline_model(Mode4_RFC,X_train,y_train,X_test)\n"
   ]
  },
  {
   "cell_type": "code",
   "execution_count": null,
   "metadata": {
    "colab": {
     "base_uri": "https://localhost:8080/",
     "height": 715
    },
    "id": "yVpymYt2ESz6",
    "outputId": "0b1a335f-d504-4995-87c6-f03fd52663f3"
   },
   "outputs": [
    {
     "name": "stdout",
     "output_type": "stream",
     "text": [
      "0.9621147260273972\n",
      "              precision    recall  f1-score   support\n",
      "\n",
      "           0       0.99      0.98      0.98     21900\n",
      "           1       0.83      0.57      0.67       308\n",
      "           2       0.36      1.00      0.53       287\n",
      "           3       0.93      0.25      0.40       280\n",
      "           4       1.00      1.00      1.00       291\n",
      "           5       1.00      1.00      1.00       294\n",
      "\n",
      "    accuracy                           0.96     23360\n",
      "   macro avg       0.85      0.80      0.76     23360\n",
      "weighted avg       0.97      0.96      0.96     23360\n",
      "\n",
      "[[21357    21   519     3     0     0]\n",
      " [  131   175     0     2     0     0]\n",
      " [    0     0   287     0     0     0]\n",
      " [  193    16     0    71     0     0]\n",
      " [    0     0     0     0   291     0]\n",
      " [    0     0     0     0     0   294]]\n"
     ]
    },
    {
     "data": {
      "image/png": "[encoded data removed]",
      "text/plain": [
       "<Figure size 720x360 with 2 Axes>"
      ]
     },
     "metadata": {
      "needs_background": "light"
     },
     "output_type": "display_data"
    }
   ],
   "source": [
    "model_information(Mode4_RFC_pred,y_test,\"Model RandomForestClassifier baseline\")"
   ]
  },
  {
   "cell_type": "markdown",
   "metadata": {
    "id": "s2NjCIZAHDot"
   },
   "source": [
    "## **Hyperparameter tunning of champion model (XGBOOST)** "
   ]
  },
  {
   "cell_type": "code",
   "execution_count": null,
   "metadata": {
    "colab": {
     "base_uri": "https://localhost:8080/"
    },
    "id": "syJ_sV2X_P_o",
    "outputId": "2ade863e-5a5f-42e8-f799-01a9043a14cf"
   },
   "outputs": [
    {
     "data": {
      "text/plain": [
       "XGBClassifier(colsample_bytree=0.7, eta=0.3, eval_metric='mlogloss',\n",
       "              max_depth=15, min_child_weight=6, objective='multi:softprob',\n",
       "              seed=0, subsample=0.9)"
      ]
     },
     "execution_count": 21,
     "metadata": {},
     "output_type": "execute_result"
    }
   ],
   "source": [
    "fin_xgboost = XGBClassifier( eta = 0.3,max_depth= 15, min_child_weight=6, subsample=0.9, colsample_bytree=0.7,seed=0,eval_metric='mlogloss')\n",
    "fin_xgboost.fit(X_train, y_train,verbose=True)"
   ]
  },
  {
   "cell_type": "code",
   "execution_count": null,
   "metadata": {
    "colab": {
     "base_uri": "https://localhost:8080/",
     "height": 719
    },
    "id": "r_4C-Lt8NwNN",
    "outputId": "1aeed199-77c5-4801-a28f-363c0d90b976"
   },
   "outputs": [
    {
     "name": "stdout",
     "output_type": "stream",
     "text": [
      "0.9657106164383562\n",
      "              precision    recall  f1-score   support\n",
      "\n",
      "           0       0.99      0.97      0.98     21900\n",
      "           1       0.83      0.72      0.77       308\n",
      "           2       0.36      1.00      0.53       287\n",
      "           3       0.88      0.42      0.57       280\n",
      "           4       1.00      1.00      1.00       291\n",
      "           5       1.00      1.00      1.00       294\n",
      "\n",
      "    accuracy                           0.97     23360\n",
      "   macro avg       0.84      0.85      0.81     23360\n",
      "weighted avg       0.98      0.97      0.97     23360\n",
      "\n",
      "[[21348    20   519    12     1     0]\n",
      " [   82   222     0     4     0     0]\n",
      " [    0     0   287     0     0     0]\n",
      " [  136    27     0   117     0     0]\n",
      " [    0     0     0     0   291     0]\n",
      " [    0     0     0     0     0   294]]\n"
     ]
    },
    {
     "data": {
      "image/png": "[encoded data removed]",
      "text/plain": [
       "<Figure size 720x360 with 2 Axes>"
      ]
     },
     "metadata": {
      "needs_background": "light"
     },
     "output_type": "display_data"
    }
   ],
   "source": [
    "fin_test_pred = fin_xgboost.predict(X_test)\n",
    "print(accuracy_score(y_test, fin_test_pred))\n",
    "print(classification_report(y_test, fin_test_pred))\n",
    "cm = confusion_matrix(y_test, fin_test_pred, labels=[0,1,2,3,4,5])\n",
    "print(cm)\n",
    "disp = ConfusionMatrixDisplay(confusion_matrix=cm,display_labels=[0,1,2,3,4,5])\n",
    "disp.plot()\n",
    "plt.title(\"fine tunning of xgboost\")\n",
    "plt.show()"
   ]
  },
  {
   "cell_type": "code",
   "execution_count": null,
   "metadata": {
    "execution": {
     "iopub.execute_input": "2022-11-04T21:56:11.280546Z",
     "iopub.status.busy": "2022-11-04T21:56:11.280146Z",
     "iopub.status.idle": "2022-11-04T21:57:34.612072Z",
     "shell.execute_reply": "2022-11-04T21:57:34.611474Z",
     "shell.execute_reply.started": "2022-11-04T21:56:11.280520Z"
    },
    "id": "hGBUMiBfaYIX"
   },
   "outputs": [],
   "source": [
    "fin_xgboost = XGBClassifier( eta = 0.3,max_depth= 15, min_child_weight=6, subsample=0.9, colsample_bytree=0.7,seed=0,eval_metric='mlogloss')\n",
    "fin_xgboost.fit(z, y_train,verbose=True)\n",
    "fin_test_pred = fin_xgboost.predict(z)\n"
   ]
  },
  {
   "cell_type": "code",
   "execution_count": null,
   "metadata": {
    "execution": {
     "iopub.execute_input": "2022-11-04T21:57:34.613628Z",
     "iopub.status.busy": "2022-11-04T21:57:34.613246Z",
     "iopub.status.idle": "2022-11-04T22:20:04.000923Z",
     "shell.execute_reply": "2022-11-04T22:20:04.000272Z",
     "shell.execute_reply.started": "2022-11-04T21:57:34.613603Z"
    },
    "id": "JE-g6S_n9zSH",
    "outputId": "0dbb25ef-aea7-4a40-df4c-48065e1345ed"
   },
   "outputs": [
    {
     "data": {
      "image/png": "[encoded data removed]",
      "text/plain": [
       "<Figure size 648x504 with 1 Axes>"
      ]
     },
     "metadata": {
      "needs_background": "light"
     },
     "output_type": "display_data"
    }
   ],
   "source": [
    "plot_tsne(X_train,fin_test_pred, target_names,\"tsne for tunned xgboost \")"
   ]
  },
  {
   "cell_type": "markdown",
   "metadata": {},
   "source": [
    "## **Save the best model**"
   ]
  },
  {
   "cell_type": "code",
   "execution_count": null,
   "metadata": {
    "colab": {
     "base_uri": "https://localhost:8080/"
    },
    "id": "npSUexFi_QFo",
    "outputId": "bea6e4a7-a82f-42b6-aec3-da37e25072f6"
   },
   "outputs": [
    {
     "data": {
      "text/plain": [
       "['model.pkl']"
      ]
     },
     "execution_count": 60,
     "metadata": {},
     "output_type": "execute_result"
    }
   ],
   "source": [
    "import joblib \n",
    "joblib.dump(fin_xgboost,'model.pkl')"
   ]
  },
  {
   "cell_type": "code",
   "execution_count": null,
   "metadata": {
    "id": "46V8kcfXOG0O"
   },
   "outputs": [],
   "source": [
    "model = joblib.load('model.pkl')"
   ]
  },
  {
   "cell_type": "code",
   "execution_count": null,
   "metadata": {
    "colab": {
     "base_uri": "https://localhost:8080/"
    },
    "id": "kH9rRfg8OH3H",
    "outputId": "71ba6cad-59d6-454f-f13f-60ad1914bbb7"
   },
   "outputs": [
    {
     "data": {
      "text/plain": [
       "array([4])"
      ]
     },
     "execution_count": 62,
     "metadata": {},
     "output_type": "execute_result"
    }
   ],
   "source": [
    "model.predict(pd.DataFrame({'memory_status_1':[0.0],'memory_status_2':[0.0],'memory_status_3':[0.0],\n",
    "                'in_octets_1':[52155151],'in_octets_2':[113221316],'in_octets_3':[51531351],\n",
    "                'out_octets_1':[51351635],'out_octets_2':[5131531],'out_octets_3':[35151531],\n",
    "               'oper_status_1':[0.9] ,'oper_status_2':[0.8],'oper_status_3':[0.7],\n",
    "                'used_precent_1':[0.5],'used_precent_2':[0.9],'used_precent_3':[0.8],\n",
    "                'user_1':[0.0],'user_2':[0.0],'user_3':[0.5],'user_4':[0.2],'user_5':[0.5],'user_6':[0.7],\n",
    "                'system_1':[0.8],'system_2':[0.8],'system_3':[0.8],'system_4':[0.8],'system_5':[0.5],'system_6':[0.8],\n",
    "                'idle_1':[0.8],'idle_2':[0.9],'idle_3':[1.1],'idle_4':[1.0],'idle_5':[2.2],'idle_6':[2.3]}))"
   ]
  },
  {
   "cell_type": "code",
   "execution_count": null,
   "metadata": {
    "id": "E23S9hZVVXYC"
   },
   "outputs": [],
   "source": [
    "classifier=joblib.load('model.pkl')\n",
    "def predict_Network_Failure(f1,f2,f3,f4,f5,f6,f7,f8,f9,f10,f11,f12,f13,f14,f15,f16,f17,f18,f19,f20,f21,f22,f23,f24,f25,f26,f27,f28,f29,f30,f31,f32,f33):\n",
    "  prediction=classifier.predict(pd.DataFrame({'memory_status_1':[f1],'memory_status_2':[f2],'memory_status_3':[f3],\n",
    "                'in_octets_1':[f4],'in_octets_2':[f5],'in_octets_3':[f6],\n",
    "                'out_octets_1':[f7],'out_octets_2':[f8],'out_octets_3':[f9],\n",
    "               'oper_status_1':[f10] ,'oper_status_2':[f11],'oper_status_3':[f12],\n",
    "                'used_precent_1':[f13],'used_precent_2':[f14],'used_precent_3':[f15],\n",
    "                'user_1':[f16],'user_2':[f17],'user_3':[f18],'user_4':[f19],'user_5':[f20],'user_6':[f21],\n",
    "                'system_1':[f22],'system_2':[f23],'system_3':[f24],'system_4':[f25],'system_5':[f26],'system_6':[f27],\n",
    "                'idle_1':[f28],'idle_2':[f29],'idle_3':[f30],'idle_4':[f31],'idle_5':[f32],'idle_6':[f33]}))\n",
    "  label = ['normal','bridge-delif','interface-down','interface-loss-start','memory-stress-start','vcpu-overload-start']\n",
    "  return label[prediction[0]]"
   ]
  },
  {
   "cell_type": "code",
   "execution_count": null,
   "metadata": {
    "colab": {
     "base_uri": "https://localhost:8080/",
     "height": 36
    },
    "id": "myuLtDGFVZ9J",
    "outputId": "87c06e86-6216-4644-e49b-97d2d5c06854"
   },
   "outputs": [
    {
     "data": {
      "application/vnd.google.colaboratory.intrinsic+json": {
       "type": "string"
      },
      "text/plain": [
       "'normal'"
      ]
     },
     "execution_count": 64,
     "metadata": {},
     "output_type": "execute_result"
    }
   ],
   "source": [
    "predict_Network_Failure(0,0,0,6516545,5465465,5154546,513545,646546456,564414641,0.2,0.3,0.4,0.5,0.6,0.08,0.5,0.6,0.2,0,0,0.2,0.1,0.9,0.9,0.2,0,0,0,0.3,0.6,0.5,0.4,0.3)"
   ]
  }
 ],
 "metadata": {
  "colab": {
   "collapsed_sections": [],
   "provenance": []
  },
  "kernelspec": {
   "display_name": "Python 3 (ipykernel)",
   "language": "python",
   "name": "python3"
  },
  "language_info": {
   "codemirror_mode": {
    "name": "ipython",
    "version": 3
   },
   "file_extension": ".py",
   "mimetype": "text/x-python",
   "name": "python",
   "nbconvert_exporter": "python",
   "pygments_lexer": "ipython3",
   "version": "3.9.12"
  }
 },
 "nbformat": 4,
 "nbformat_minor": 1
}
